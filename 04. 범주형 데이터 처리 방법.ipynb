{
 "cells": [
  {
   "cell_type": "markdown",
   "id": "49eb2625",
   "metadata": {},
   "source": [
    "# 범주형 데이터 처리 방법\n",
    "범주형 데이터 : 연속적인 값을 갖지 않고 명목상으로 분류되는 값들을 의미한다. 이러한 데이터는 숫자로 표현되지 않는다.<br>\n",
    "범주형 데이터는 수치적인 의미를 갖지 않기 때문에 머신러닝 모델에서는 이를 처리하는데 어려움을 겪게된다. 따라서, 범주형 데이터를 모델에 효과적으로 사용하려면 이를 처리할 수 있는 방법을 사용해야 한다."
   ]
  },
  {
   "cell_type": "code",
   "execution_count": 1,
   "id": "7082a0c4",
   "metadata": {},
   "outputs": [
    {
     "name": "stdout",
     "output_type": "stream",
     "text": [
      "특성 클래스 확인 ['가나다라' '아바하자' '카나다사']\n",
      "one hot >>  ['가나다라' '가나다라' '아바하자' '카나다사']\n"
     ]
    }
   ],
   "source": [
    "# 순서가 없는 범주형 데이터 처리 방법\n",
    "# 사이킷런의 LabelBinarizer를 사용해 문자열 타깃 데이터 원-핫 인코딩\n",
    "\n",
    "import numpy as np\n",
    "from sklearn.preprocessing import LabelBinarizer, MultiLabelBinarizer\n",
    "\n",
    "# 특성 데이터 생성\n",
    "# feature = np.array((['Texas'],\n",
    "#                    ['California'],\n",
    "#                    ['Texas'],\n",
    "#                    ['Delaware'],\n",
    "#                    ['Texas']))\n",
    "\n",
    "feature = np.array((['가나다라'],\n",
    "                   ['가나다라'],\n",
    "                   ['아바하자'],\n",
    "                   ['카나다사']))\n",
    "\n",
    "one_hot = LabelBinarizer()   # 원-핫 인코더 생성\n",
    "one_hot.fit_transform(feature)    # 특성을 원-핫 인코딩 변환\n",
    "one_hot.classes_     # 특성 클래스 확인\n",
    "\n",
    "print('특성 클래스 확인', one_hot.classes_)\n",
    "\n",
    "# 데이터를 되돌리는 방법\n",
    "one_hot_data = one_hot.inverse_transform(one_hot.transform(feature))\n",
    "print('one hot >> ', one_hot_data)"
   ]
  },
  {
   "cell_type": "markdown",
   "id": "ca70de19",
   "metadata": {},
   "source": [
    "## 문자열 타깃 데이터 원-핫 인코딩"
   ]
  },
  {
   "cell_type": "code",
   "execution_count": 16,
   "id": "39ab5cf3",
   "metadata": {},
   "outputs": [
    {
     "name": "stdout",
     "output_type": "stream",
     "text": [
      "one hot encoder data >>  [array(['안녕', '저녁', '점심'], dtype='<U11'), array(['1', '3'], dtype='<U11')]\n"
     ]
    },
    {
     "name": "stderr",
     "output_type": "stream",
     "text": [
      "C:\\Users\\smjin\\anaconda3\\lib\\site-packages\\sklearn\\preprocessing\\_encoders.py:828: FutureWarning: `sparse` was renamed to `sparse_output` in version 1.2 and will be removed in 1.4. `sparse_output` is ignored unless you leave `sparse` to its default value.\n",
      "  warnings.warn(\n"
     ]
    }
   ],
   "source": [
    "from sklearn.preprocessing import OneHotEncoder\n",
    "# 여러 개 열이 있는 특성 배열 생성\n",
    "str_feature = np.array([['안녕', 1],\n",
    "                       ['저녁', 3],\n",
    "                       ['안녕', 1],\n",
    "                       ['점심', 1]])\n",
    "\n",
    "# 희소배열을 반환이 기본값이면 sparse = False로 지정하면 밀집 배열 변환\n",
    "one_hot_encoder = OneHotEncoder(sparse=False)\n",
    "\n",
    "# OneHotencoder -> 입력 특성 배열을 모두 범주형으로 인식\n",
    "one_hot_encoder.fit_transform(str_feature)\n",
    "one_hot_encoder_data = one_hot_encoder.categories_    # categories   # categories_ 속성으로 클래스를 확인 가능\n",
    "print(\"one hot encoder data >> \", one_hot_encoder_data)"
   ]
  },
  {
   "cell_type": "code",
   "execution_count": 2,
   "id": "b7d244c1",
   "metadata": {},
   "outputs": [
    {
     "name": "stdout",
     "output_type": "stream",
     "text": [
      "특성 클래스 확인 >>  ['가나다라마' '아마자나가' '아자바하나' '아카나다하' '자다가나라' '자다나타하']\n"
     ]
    }
   ],
   "source": [
    "# 순서가 없는 범주형 데이터 처리\n",
    "# 다중 클래스 특성에 대한 처리 방법 실습\n",
    "\n",
    "multiclass_feature = [(\"가나다라마\", \"아자바하나\"),\n",
    "                     (\"자다가나라\", \"자다나타하\"),\n",
    "                     (\"가나다라마\", \"아자바하나\"),\n",
    "                     (\"아마자나가\", \"아카나다하\"),\n",
    "                     (\"가나다라마\", \"아자바하나\"),\n",
    "                     ]\n",
    "\n",
    "one_hot_multiclass = MultiLabelBinarizer()     # 다중 클래스 원-핫 인코더 객체 생성\n",
    "one_hot_multiclass.fit_transform(multiclass_feature)        # 다중 클래스 특성을 원-핫 인코딩 변환\n",
    "one_hot_data = one_hot_multiclass.classes_              # 특성 클래스 확인\n",
    "print(\"특성 클래스 확인 >> \", one_hot_data)"
   ]
  },
  {
   "cell_type": "markdown",
   "id": "d43f9002",
   "metadata": {},
   "source": [
    "## 1-1 순서가 있는 범주형 특성 인코딩\n",
    "- 순서가 있는 클래스는 순서 개념을 가진 수치값으로 변환해야 한다.\n",
    "- 클래스 레이블을 문자열을 정수로 매핑하는 딕셔너리를 만들고 이를 필요한 특성에 적용한다."
   ]
  },
  {
   "cell_type": "code",
   "execution_count": 3,
   "id": "bbfe949e",
   "metadata": {},
   "outputs": [
    {
     "name": "stdout",
     "output_type": "stream",
     "text": [
      "0    1\n",
      "1    1\n",
      "2    2\n",
      "3    2\n",
      "4    3\n",
      "Name: Score, dtype: int64\n"
     ]
    }
   ],
   "source": [
    "# 순서가 있는 범주형 특성 인코딩\n",
    "# 판다스 데이터프레임의 replace()를 사용하여 문자열 레이블을 수치값으로 변환합니다.\n",
    "import pandas as pd\n",
    "\n",
    "# data frame\n",
    "# 특성 데이터 생성\n",
    "dataframe = pd.DataFrame({\n",
    "    'Score' : [\"Low\", \"Low\", \"Medium\", \"Medium\", \"High\"]\n",
    "})\n",
    "\n",
    "# 매핑 딕셔너리 생성\n",
    "scale_mapper = {\n",
    "    \"Low\" : 1,\n",
    "    \"Medium\" : 2,\n",
    "    \"High\" : 3\n",
    "}\n",
    "\n",
    "data =dataframe[\"Score\"].replace(scale_mapper)    # 특성을 정수로 변환\n",
    "print(data)"
   ]
  },
  {
   "cell_type": "markdown",
   "id": "55577da2",
   "metadata": {},
   "source": [
    "- 사이킷런 0.20 이상부터는 범주형 데이터를 정수로 인코딩하는 OrdinalEncoder가 추가 되었음\n",
    "- OrdinalEncoder는 클래스 범주를 순서대로 반환"
   ]
  },
  {
   "cell_type": "code",
   "execution_count": 4,
   "id": "f62360d3",
   "metadata": {},
   "outputs": [
    {
     "name": "stdout",
     "output_type": "stream",
     "text": [
      "[array(['High', 'Low', 'Medium'], dtype='<U11'), array(['10', '3', '40'], dtype='<U11')]\n"
     ]
    }
   ],
   "source": [
    "from sklearn.preprocessing import OrdinalEncoder\n",
    "\n",
    "feature_array = np.array((['Low', 10],\n",
    "                         ['High', 40],\n",
    "                         ['Medium', 3],))\n",
    "\n",
    "ordinal_encoder = OrdinalEncoder()\n",
    "ordinal_encoder.fit_transform(feature_array)\n",
    "print(ordinal_encoder.categories_)"
   ]
  },
  {
   "cell_type": "markdown",
   "id": "3a0bcdbb",
   "metadata": {},
   "source": [
    "## 1-2 순서가 있는 범주형 특성 인코딩\n",
    "- 특성 딕셔너리 인코딩"
   ]
  },
  {
   "cell_type": "code",
   "execution_count": 5,
   "id": "a99c3e1c",
   "metadata": {},
   "outputs": [],
   "source": [
    "from sklearn.feature_extraction import DictVectorizer"
   ]
  },
  {
   "cell_type": "code",
   "execution_count": 8,
   "id": "8b954aa9",
   "metadata": {},
   "outputs": [
    {
     "name": "stdout",
     "output_type": "stream",
     "text": [
      "[[4. 2. 0. 0.]\n",
      " [0. 4. 0. 3.]\n",
      " [0. 1. 2. 0.]\n",
      " [0. 1. 2. 0.]]\n",
      "['Blue' 'Red' 'Yellow' 'blue']\n",
      "   Blue  Red  Yellow  blue\n",
      "0   4.0  2.0     0.0   0.0\n",
      "1   0.0  4.0     0.0   3.0\n",
      "2   0.0  1.0     2.0   0.0\n",
      "3   0.0  1.0     2.0   0.0\n"
     ]
    }
   ],
   "source": [
    "# 문서에서 단어의 사용 빈도를 나타내는 딕셔너리 정보를 입력받아 BOW 인코딩한 수치 벡터로 변환한다.\n",
    "# 딕셔너리 생성\n",
    "data_dict=[{\"Red\" : 2, \"Blue\" : 4},\n",
    "          {\"Red\" : 4, \"blue\" : 3},\n",
    "          {\"Red\" : 1, \"Yellow\" : 2},\n",
    "          {\"Red\" : 1, \"Yellow\" : 2}]\n",
    "\n",
    "# DictVectorizer 객체 생성\n",
    "dictVectorizer = DictVectorizer(sparse=False)\n",
    "\n",
    "feature_dict = dictVectorizer.fit_transform(data_dict)   # 딕셔너리를 특성 행렬로 변환\n",
    "print(feature_dict)\n",
    "\n",
    "feature_dict_name = dictVectorizer.get_feature_names_out()\n",
    "print(feature_dict_name)\n",
    "\n",
    "dict_data = pd.DataFrame(feature_dict, columns=feature_dict_name)\n",
    "print(dict_data)"
   ]
  },
  {
   "cell_type": "markdown",
   "id": "06a8167c",
   "metadata": {},
   "source": [
    "## 범주형 데이터 - 누락된 클래스 값 대처하기 01"
   ]
  },
  {
   "cell_type": "code",
   "execution_count": 9,
   "id": "7987e702",
   "metadata": {},
   "outputs": [],
   "source": [
    "from sklearn.neighbors import KNeighborsClassifier"
   ]
  },
  {
   "cell_type": "code",
   "execution_count": 10,
   "id": "5b1abbfd",
   "metadata": {},
   "outputs": [
    {
     "name": "stdout",
     "output_type": "stream",
     "text": [
      "[[ 2.1   1.48]\n",
      " [ 1.18  1.33]\n",
      " [ 1.22  1.27]\n",
      " [-0.2  -1.15]]\n",
      "[0. 1. 0. 1.]\n"
     ]
    }
   ],
   "source": [
    "# 범주형 특성을 가진 특성 행렬 생성\n",
    "x = np.array([[0, 2.10, 1.48],\n",
    "             [1, 1.18, 1.33],\n",
    "             [0, 1.22, 1.27],\n",
    "             [1, -0.20, -1.15]])\n",
    "\n",
    "# 범주형 특성에 누락된 값이 있는 특성 행렬을 만든다.\n",
    "x_with_nan = np.array([[np.nan, 0.87, 1.33], [np.nan, -0.67, -0.22]])\n",
    "clf = KNeighborsClassifier(3, weights = 'distance')\n",
    "#  k =3, 예측 수행을 하면서 가장 가까운 3개를 찾으 거리에 따라 가중치를 부여하여 예측\n",
    "\n",
    "print(x[:, 1:])   # 데이터\n",
    "print(x[:, 0])    # 라벨"
   ]
  },
  {
   "cell_type": "code",
   "execution_count": 11,
   "id": "7c80772a",
   "metadata": {},
   "outputs": [
    {
     "name": "stdout",
     "output_type": "stream",
     "text": [
      "[[ 0.    0.87  1.33]\n",
      " [ 1.   -0.67 -0.22]\n",
      " [ 0.    2.1   1.48]\n",
      " [ 1.    1.18  1.33]\n",
      " [ 0.    1.22  1.27]\n",
      " [ 1.   -0.2  -1.15]]\n"
     ]
    }
   ],
   "source": [
    "train_model = clf.fit(x[:, 1:], x[:, 0])   # 훈련\n",
    "imputer_values = train_model.predict(x_with_nan[:, 1:])   # 누락된 값의 클래스 예측\n",
    "\n",
    "# 예측된 클래스와 원본 특성을 열로 합침\n",
    "x_with_imputer = np.hstack((imputer_values.reshape(-1, 1), x_with_nan[:, 1:]))\n",
    "data = np.vstack((x_with_imputer, x))   # 두 특성 행렬을 연결\n",
    "print(data)"
   ]
  },
  {
   "cell_type": "markdown",
   "id": "221f008f",
   "metadata": {},
   "source": [
    "k-최근접 이웃 : 머신러닝에서 사용되는 분류 알고리즘\n",
    "유사한 특성을 가진 데이터는 유사한 범주에 속하는 경향이 있다는 가정하에 사용한다.\n",
    "<br>\n",
    "- K 개수 선택\n",
    "k가 너무 작을 때 : overfitting(과적합) -> 분류 정확도가 낮아짐\n",
    "k가 너무 클 때 Underfitting(과소적합) -> 모든 점이 동일한 방식으로 분류되거나 함"
   ]
  },
  {
   "cell_type": "markdown",
   "id": "7a79b39e",
   "metadata": {},
   "source": [
    "## 누락된 클래스 값 대처하기 - 02\n",
    "- 누락된 값을 측성에서 가장 자주 등장하는 값으로 채우기"
   ]
  },
  {
   "cell_type": "code",
   "execution_count": 17,
   "id": "f3e22bf7",
   "metadata": {},
   "outputs": [],
   "source": [
    "from sklearn.impute import SimpleImputer\n",
    "# SimpleImputer : 결측값(missing value)을 대체할 값으로 채워주는 클래스\n",
    "\n",
    "\"\"\"\n",
    "strategy 들어갈 수 있는 값은 총 3개\n",
    "mean, median, most_frequent\n",
    "\n",
    "어떤 것을 선택할지는 데이터의 특성과 상황에 따라 다르다.\n",
    "일반적으로는 수치형 데이터의 경우 mean이나 median을, 범주형 데이터의 경우 most_frequent을 사용\n",
    "\"\"\""
   ]
  },
  {
   "cell_type": "code",
   "execution_count": 14,
   "id": "29f0e8b7",
   "metadata": {},
   "outputs": [
    {
     "name": "stdout",
     "output_type": "stream",
     "text": [
      "[[  nan  0.87  1.33]\n",
      " [  nan -0.67 -0.22]\n",
      " [ 0.    2.1   1.48]\n",
      " [ 1.    1.18  1.33]\n",
      " [ 0.    1.22  1.27]\n",
      " [ 1.   -0.2  -1.15]]\n",
      "[[ 0.    0.87  1.33]\n",
      " [ 0.   -0.67 -0.22]\n",
      " [ 0.    2.1   1.48]\n",
      " [ 1.    1.18  1.33]\n",
      " [ 0.    1.22  1.27]\n",
      " [ 1.   -0.2  -1.15]]\n"
     ]
    }
   ],
   "source": [
    "x_complete = np.vstack((x_with_nan, x))\n",
    "print(x_complete)\n",
    "\n",
    "impute = SimpleImputer(strategy='most_frequent')\n",
    "data_impute = impute.fit_transform(x_complete)\n",
    "\n",
    "print(data_impute)"
   ]
  },
  {
   "cell_type": "code",
   "execution_count": null,
   "id": "f06d55cf",
   "metadata": {},
   "outputs": [],
   "source": []
  }
 ],
 "metadata": {
  "kernelspec": {
   "display_name": "AI",
   "language": "python",
   "name": "ai"
  },
  "language_info": {
   "codemirror_mode": {
    "name": "ipython",
    "version": 3
   },
   "file_extension": ".py",
   "mimetype": "text/x-python",
   "name": "python",
   "nbconvert_exporter": "python",
   "pygments_lexer": "ipython3",
   "version": "3.8.16"
  }
 },
 "nbformat": 4,
 "nbformat_minor": 5
}
