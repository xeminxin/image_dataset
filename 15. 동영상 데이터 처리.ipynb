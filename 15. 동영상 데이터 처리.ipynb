{
 "cells": [
  {
   "cell_type": "code",
   "execution_count": 1,
   "id": "461ea77d",
   "metadata": {},
   "outputs": [],
   "source": [
    "# Create a VideoCapture object\n",
    "import cv2\n",
    "\n",
    "cap = cv2.VideoCapture(\"./data/blooms.mp4\")"
   ]
  },
  {
   "cell_type": "code",
   "execution_count": 2,
   "id": "530a1860",
   "metadata": {},
   "outputs": [
    {
     "name": "stdout",
     "output_type": "stream",
     "text": [
      "Original width and height: 1920.0x1080.0\n",
      "fps: 29.97002997002997\n",
      "frame count : 751.0\n"
     ]
    }
   ],
   "source": [
    "# 비디오 파일 읽기\n",
    "cap = cv2.VideoCapture(\"./data/blooms.mp4\")\n",
    "\n",
    "# 비디오 정보 가져오기\n",
    "width = cap.get(cv2.CAP_PROP_FRAME_WIDTH)\n",
    "height = cap.get(cv2.CAP_PROP_FRAME_HEIGHT)\n",
    "fps = cap.get(cv2.CAP_PROP_FPS)\n",
    "frame_count = cap.get(cv2.CAP_PROP_FRAME_COUNT)\n",
    "\n",
    "# 비디오 정보 보기\n",
    "print(f\"Original width and height: {width}x{height}\")\n",
    "print(f\"fps: {fps}\")\n",
    "print(f\"frame count : {frame_count}\")"
   ]
  },
  {
   "cell_type": "markdown",
   "id": "6f4b354e",
   "metadata": {},
   "source": [
    "### FPS가 무엇인가?\n",
    "초당 프레임 수를 나타내는 지표<br>\n",
    "즉, 영상이 얼마나 매끄럽게 움직이는지를 나타내는 값"
   ]
  },
  {
   "cell_type": "code",
   "execution_count": 3,
   "id": "83fdb8b1",
   "metadata": {},
   "outputs": [],
   "source": [
    "# 동영상 파일 읽기 예시\n",
    "if cap.isOpened():  # 캡처 객체 초기화 확인\n",
    "    while True:\n",
    "        ret, frame = cap.read()   # 다음 프레임 읽기\n",
    "        if ret:                   # 프레임 읽기 정상\n",
    "            \n",
    "            # 프레임 크기 조정 -> 영상 크기 수정\n",
    "            frame = cv2.resize(frame, (640, 480))\n",
    "            \n",
    "            cv2.imshow('Video', frame)  # 화면 표시\n",
    "            # q를 누르면 종료\n",
    "            if cv2.waitKey(25) & 0xFF == ord('q') :  # 25ms로 지연(40fps로 가정)\n",
    "                exit()\n",
    "                \n",
    "        else:\n",
    "            break\n",
    "else:\n",
    "    print(\"can't open video.\")  # 캡처 객체 초기화 실패\n",
    "\n",
    "cap.release()                   # 캡처 지원 반납\n",
    "cv2.destroyAllWindows()"
   ]
  },
  {
   "cell_type": "markdown",
   "id": "7de7a8e0",
   "metadata": {},
   "source": [
    "## Web Came 읽기"
   ]
  },
  {
   "cell_type": "code",
   "execution_count": 1,
   "id": "c54b5cf4",
   "metadata": {},
   "outputs": [
    {
     "name": "stdout",
     "output_type": "stream",
     "text": [
      "Original width and height : 640.0x480.0\n"
     ]
    },
    {
     "ename": "error",
     "evalue": "OpenCV(4.5.5) D:\\a\\opencv-python\\opencv-python\\opencv\\modules\\imgproc\\src\\resize.cpp:4052: error: (-215:Assertion failed) !ssize.empty() in function 'cv::resize'\n",
     "output_type": "error",
     "traceback": [
      "\u001b[1;31m---------------------------------------------------------------------------\u001b[0m",
      "\u001b[1;31merror\u001b[0m                                     Traceback (most recent call last)",
      "Cell \u001b[1;32mIn[1], line 14\u001b[0m\n\u001b[0;32m     11\u001b[0m ret, frame \u001b[38;5;241m=\u001b[39m cap\u001b[38;5;241m.\u001b[39mread()\n\u001b[0;32m     13\u001b[0m \u001b[38;5;66;03m# 화면 사이즈 조정\u001b[39;00m\n\u001b[1;32m---> 14\u001b[0m frame \u001b[38;5;241m=\u001b[39m \u001b[43mcv2\u001b[49m\u001b[38;5;241;43m.\u001b[39;49m\u001b[43mresize\u001b[49m\u001b[43m(\u001b[49m\u001b[43mframe\u001b[49m\u001b[43m,\u001b[49m\u001b[43m \u001b[49m\u001b[43m(\u001b[49m\u001b[38;5;241;43m864\u001b[39;49m\u001b[43m,\u001b[49m\u001b[43m \u001b[49m\u001b[38;5;241;43m486\u001b[39;49m\u001b[43m)\u001b[49m\u001b[43m)\u001b[49m\n\u001b[0;32m     16\u001b[0m cv2\u001b[38;5;241m.\u001b[39mimshow(\u001b[38;5;124m'\u001b[39m\u001b[38;5;124mWebcam\u001b[39m\u001b[38;5;124m'\u001b[39m, frame)\n\u001b[0;32m     18\u001b[0m \u001b[38;5;28;01mif\u001b[39;00m cv2\u001b[38;5;241m.\u001b[39mwaitKey(\u001b[38;5;241m1\u001b[39m) \u001b[38;5;241m==\u001b[39m \u001b[38;5;28mord\u001b[39m(\u001b[38;5;124m'\u001b[39m\u001b[38;5;124mq\u001b[39m\u001b[38;5;124m'\u001b[39m):\n",
      "\u001b[1;31merror\u001b[0m: OpenCV(4.5.5) D:\\a\\opencv-python\\opencv-python\\opencv\\modules\\imgproc\\src\\resize.cpp:4052: error: (-215:Assertion failed) !ssize.empty() in function 'cv::resize'\n"
     ]
    }
   ],
   "source": [
    "import cv2\n",
    "\n",
    "cap = cv2.VideoCapture(0)\n",
    "# 비디오 정보 가져오기\n",
    "width = cap.get(cv2.CAP_PROP_FRAME_WIDTH)\n",
    "height = cap.get(cv2.CAP_PROP_FRAME_HEIGHT)\n",
    "print(f\"Original width and height : {width}x{height}\")\n",
    "\n",
    "# 1280x70 종횡비에 맞게 이미지 크기 수정해야 함\n",
    "while True :\n",
    "    ret, frame = cap.read()\n",
    "    \n",
    "    # 화면 사이즈 조정\n",
    "    frame = cv2.resize(frame, (864, 486))\n",
    "    \n",
    "    cv2.imshow('Webcam', frame)\n",
    "    \n",
    "    if cv2.waitKey(1) == ord('q'):\n",
    "        break\n",
    "        \n",
    "cap.release()\n",
    "cv2.destroyAllWindows()"
   ]
  },
  {
   "cell_type": "markdown",
   "id": "b6a1f749",
   "metadata": {},
   "source": [
    "## 동영상 파일 프레임 나눠서 저장하기 예시"
   ]
  },
  {
   "cell_type": "code",
   "execution_count": null,
   "id": "b20e8d6f",
   "metadata": {},
   "outputs": [],
   "source": [
    "# 25 FPS 기준으로 프레임 나눠서 저장\n",
    "\n",
    "# 동영상 파일 프레임 나눠서 저장하기 예시\n",
    "# 기준 25FPS 기준으로 프레임 나눠서 저장\n",
    "import cv2\n",
    "import os\n",
    "\n",
    "# 비디오 파일 읽기\n",
    "cap = cv2.VideoCapture(\"./data/blooms.mp4\")\n",
    "\n",
    "# FPS 지정\n",
    "fps = 25\n",
    "\n",
    "# 동영상 파일 읽기 예시\n",
    "count = 0\n",
    "if cap.isOpened() :    # 캡처 객체 초기화 확인\n",
    "    while True:\n",
    "        ret, frame = cap.read()   # 다음 프레임 읽기\n",
    "        \n",
    "        if ret:\n",
    "            if(int(cap.get(1)) % fps == 0):\n",
    "                os.makedirs(\"./data/frame_image_save/\", exist_ok=True)  # 이미지 저장할 폴더 생성\n",
    "                cv2.imwrite(\n",
    "                f\"./data/frame_image_save/image_{str(count).zfill(4)}.png\", frame)\n",
    "            count = count + 1\n",
    "            \n",
    "        else:\n",
    "            break\n",
    "else:\n",
    "    print(\"can't open video.\")  # 캡처 객체 "
   ]
  }
 ],
 "metadata": {
  "kernelspec": {
   "display_name": "AI",
   "language": "python",
   "name": "ai"
  },
  "language_info": {
   "codemirror_mode": {
    "name": "ipython",
    "version": 3
   },
   "file_extension": ".py",
   "mimetype": "text/x-python",
   "name": "python",
   "nbconvert_exporter": "python",
   "pygments_lexer": "ipython3",
   "version": "3.8.16"
  }
 },
 "nbformat": 4,
 "nbformat_minor": 5
}
