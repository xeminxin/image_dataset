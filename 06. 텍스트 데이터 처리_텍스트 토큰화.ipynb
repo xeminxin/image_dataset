{
 "cells": [
  {
   "cell_type": "markdown",
   "id": "13f117f7",
   "metadata": {},
   "source": [
    "## 텍스트 토큰화\n",
    "- 텍스트를 개별 단어로 나누기"
   ]
  },
  {
   "cell_type": "code",
   "execution_count": 1,
   "id": "13948343",
   "metadata": {},
   "outputs": [
    {
     "name": "stderr",
     "output_type": "stream",
     "text": [
      "[nltk_data] Downloading package punkt to\n",
      "[nltk_data]     C:\\Users\\smjin\\AppData\\Roaming\\nltk_data...\n",
      "[nltk_data]   Package punkt is already up-to-date!\n"
     ]
    },
    {
     "data": {
      "text/plain": [
       "True"
      ]
     },
     "execution_count": 1,
     "metadata": {},
     "output_type": "execute_result"
    }
   ],
   "source": [
    "from nltk.tokenize import sent_tokenize\n",
    "from nltk.tokenize import word_tokenize\n",
    "import nltk\n",
    "\n",
    "# 구두점 데이터 다운로드\n",
    "nltk.download('punkt')"
   ]
  },
  {
   "cell_type": "markdown",
   "id": "8fbdd7d8",
   "metadata": {},
   "source": [
    "### 단어 나누기"
   ]
  },
  {
   "cell_type": "code",
   "execution_count": 3,
   "id": "666b9719",
   "metadata": {},
   "outputs": [
    {
     "name": "stdout",
     "output_type": "stream",
     "text": [
      "['현재', '걸그룹', '중', '유일하게', '모든', '멤버가', '글로벌', '하이앤드', '브랜드의', '‘', '글로벌', '앰버서더', '’', '로', '활동하고', '있다', '.']\n"
     ]
    }
   ],
   "source": [
    "string = \"현재 걸그룹 중 유일하게 모든 멤버가 글로벌 하이앤드 브랜드의 ‘글로벌 앰버서더’로 활동하고 있다.\"\n",
    "word_data = word_tokenize(string)   # 단어를 토큰 기준으로 나눈다.\n",
    "print(word_data)"
   ]
  },
  {
   "cell_type": "markdown",
   "id": "1cb004f8",
   "metadata": {},
   "source": [
    "### 문장 나누기"
   ]
  },
  {
   "cell_type": "code",
   "execution_count": 4,
   "id": "b930181d",
   "metadata": {
    "scrolled": true
   },
   "outputs": [
    {
     "name": "stdout",
     "output_type": "stream",
     "text": [
      "['K-POP 3세대 대표 아이돌 그룹 중 하나로서, 해외와 빌보드 메인 차트에서 많은 기록을 세우고 있는 세계적인 걸그룹이다.', '현재 걸그룹 중 유일하게 모든 멤버가 글로벌 하이앤드 브랜드의 ‘글로벌 앰버서더’로 활동하고 있다.']\n"
     ]
    }
   ],
   "source": [
    "sent_string = \"K-POP 3세대 대표 아이돌 그룹 중 하나로서, 해외와 빌보드 메인 차트에서 많은 기록을 세우고 있는 세계적인 걸그룹이다. 현재 걸그룹 중 유일하게 모든 멤버가 글로벌 하이앤드 브랜드의 ‘글로벌 앰버서더’로 활동하고 있다.\"\n",
    "sent_data = sent_tokenize(sent_string)\n",
    "print(sent_data)"
   ]
  },
  {
   "cell_type": "markdown",
   "id": "929aff2b",
   "metadata": {},
   "source": [
    "## 불용어 삭제"
   ]
  },
  {
   "cell_type": "code",
   "execution_count": 5,
   "id": "985487f1",
   "metadata": {},
   "outputs": [
    {
     "name": "stderr",
     "output_type": "stream",
     "text": [
      "[nltk_data] Downloading package stopwords to\n",
      "[nltk_data]     C:\\Users\\smjin\\AppData\\Roaming\\nltk_data...\n",
      "[nltk_data]   Package stopwords is already up-to-date!\n"
     ]
    },
    {
     "data": {
      "text/plain": [
       "True"
      ]
     },
     "execution_count": 5,
     "metadata": {},
     "output_type": "execute_result"
    }
   ],
   "source": [
    "from nltk.corpus import stopwords\n",
    "nltk.download('stopwords')      # 불용어 데이터 다운로드"
   ]
  },
  {
   "cell_type": "code",
   "execution_count": 6,
   "id": "dcc1747b",
   "metadata": {},
   "outputs": [
    {
     "name": "stdout",
     "output_type": "stream",
     "text": [
      "불용어 리스트 : ['i', 'me', 'my', 'myself', 'we', 'our', 'ours', 'ourselves', 'you', \"you're\", \"you've\", \"you'll\", \"you'd\", 'your', 'yours', 'yourself', 'yourselves', 'he', 'him', 'his', 'himself', 'she', \"she's\", 'her', 'hers', 'herself', 'it', \"it's\", 'its', 'itself', 'they', 'them', 'their', 'theirs', 'themselves', 'what', 'which', 'who', 'whom', 'this', 'that', \"that'll\", 'these', 'those', 'am', 'is', 'are', 'was', 'were', 'be', 'been', 'being', 'have', 'has', 'had', 'having', 'do', 'does', 'did', 'doing', 'a', 'an', 'the', 'and', 'but', 'if', 'or', 'because', 'as', 'until', 'while', 'of', 'at', 'by', 'for', 'with', 'about', 'against', 'between', 'into', 'through', 'during', 'before', 'after', 'above', 'below', 'to', 'from', 'up', 'down', 'in', 'out', 'on', 'off', 'over', 'under', 'again', 'further', 'then', 'once', 'here', 'there', 'when', 'where', 'why', 'how', 'all', 'any', 'both', 'each', 'few', 'more', 'most', 'other', 'some', 'such', 'no', 'nor', 'not', 'only', 'own', 'same', 'so', 'than', 'too', 'very', 's', 't', 'can', 'will', 'just', 'don', \"don't\", 'should', \"should've\", 'now', 'd', 'll', 'm', 'o', 're', 've', 'y', 'ain', 'aren', \"aren't\", 'couldn', \"couldn't\", 'didn', \"didn't\", 'doesn', \"doesn't\", 'hadn', \"hadn't\", 'hasn', \"hasn't\", 'haven', \"haven't\", 'isn', \"isn't\", 'ma', 'mightn', \"mightn't\", 'mustn', \"mustn't\", 'needn', \"needn't\", 'shan', \"shan't\", 'shouldn', \"shouldn't\", 'wasn', \"wasn't\", 'weren', \"weren't\", 'won', \"won't\", 'wouldn', \"wouldn't\"]\n",
      "불용어가 삭제된 결과 :  ['going', 'store', 'park']\n"
     ]
    }
   ],
   "source": [
    "tokenized_words = [\"i\", \"am\", \"going\", \"to\", \"to\", \"the\", \"store\", \"and\", \"park\"]\n",
    "\n",
    "stop_words = stopwords.words('english')\n",
    "\n",
    "# 불용어 삭제\n",
    "filtered_words = [word for word in tokenized_words if word not in stop_words]\n",
    "\n",
    "# 불용어 확인\n",
    "stop_data = stop_words\n",
    "print(\"불용어 리스트 :\", stop_data)\n",
    "print(\"불용어가 삭제된 결과 : \", filtered_words)"
   ]
  },
  {
   "cell_type": "markdown",
   "id": "7d50996b",
   "metadata": {},
   "source": [
    "어간 추출"
   ]
  },
  {
   "cell_type": "code",
   "execution_count": 7,
   "id": "7ba7a316",
   "metadata": {},
   "outputs": [],
   "source": [
    "from nltk.stem.porter import PorterStemmer"
   ]
  },
  {
   "cell_type": "code",
   "execution_count": 8,
   "id": "f7d20488",
   "metadata": {},
   "outputs": [
    {
     "name": "stdout",
     "output_type": "stream",
     "text": [
      "i\n",
      "am\n",
      "going\n",
      "to\n",
      "go\n",
      "to\n",
      "the\n",
      "store\n",
      "and\n",
      "meeting\n",
      "['i', 'am', 'go', 'to', 'go', 'to', 'the', 'store', 'and', 'meet']\n"
     ]
    }
   ],
   "source": [
    "tokenized_words_temp = [\"i\", \"am\", \"going\", \"to\", \"go\", \"to\", \"the\", \"store\", \"and\", \"meeting\"]\n",
    "\n",
    "# 어간 추출기 생성\n",
    "porter = PorterStemmer()\n",
    "word_list_temp = []\n",
    "for word in tokenized_words_temp :\n",
    "    print(word)\n",
    "    word_list_temp.append(porter.stem(word))\n",
    "    \n",
    "print(word_list_temp)"
   ]
  },
  {
   "cell_type": "markdown",
   "id": "84cd0a8e",
   "metadata": {},
   "source": [
    "## 품사 태깅"
   ]
  },
  {
   "cell_type": "code",
   "execution_count": 9,
   "id": "c5f48b66",
   "metadata": {},
   "outputs": [],
   "source": [
    "from nltk import pos_tag\n",
    "from nltk import word_tokenize"
   ]
  },
  {
   "cell_type": "code",
   "execution_count": 10,
   "id": "8d92b50f",
   "metadata": {},
   "outputs": [
    {
     "name": "stderr",
     "output_type": "stream",
     "text": [
      "[nltk_data] Downloading package averaged_perceptron_tagger to\n",
      "[nltk_data]     C:\\Users\\smjin\\AppData\\Roaming\\nltk_data...\n",
      "[nltk_data]   Package averaged_perceptron_tagger is already up-to-\n",
      "[nltk_data]       date!\n"
     ]
    },
    {
     "data": {
      "text/plain": [
       "True"
      ]
     },
     "execution_count": 10,
     "metadata": {},
     "output_type": "execute_result"
    }
   ],
   "source": [
    "nltk.download(\"averaged_perceptron_tagger\")   # 태거 다운로드"
   ]
  },
  {
   "cell_type": "code",
   "execution_count": 11,
   "id": "aa0914c1",
   "metadata": {},
   "outputs": [
    {
     "name": "stdout",
     "output_type": "stream",
     "text": [
      "[('Chris', 'NNP'), ('loved', 'VBD'), ('outdoor', 'RP'), ('running', 'VBG')]\n"
     ]
    }
   ],
   "source": [
    "text_data_tag = \"Chris loved outdoor running\"      # 샘플 텍스트 데이터\n",
    "text_tagger = pos_tag(word_tokenize(text_data_tag))\n",
    "print(text_tagger)        # 품사 확인 (단어와 품사 태그로 이루어진 튜플의 리스트 출력)"
   ]
  },
  {
   "cell_type": "markdown",
   "id": "a41fd7ee",
   "metadata": {},
   "source": [
    "### 단어 중요도 가중치 부여하기\n",
    "- TfidVectorizer : tf-idf를 사용해 하나의 문서에 등장하는 단어의 빈도와 다른 모든 문서에 등장하는 빈도를 비교\n",
    "- tf(단어 빈도) : 한 문서에 어떤 단어가 많이 등장할수록 그 문서에 더 중요한 단어\n",
    "- df(문서 빈도) : 한 단어가 많은 문서에 나타나면 이는 어떤 특정 문서에 중요하지 않는 단어\n",
    "- tf와 df 두 통계치를 연결하여 각 문서가 문서에 얼마나 중요한 단어인지를 점수로 할당\n",
    "- tf를 idf(역문서 빈도)에 곱한다.\n",
    "\n",
    "> tf - idf(t,d) = tf(t,d) x idf(t)"
   ]
  },
  {
   "cell_type": "code",
   "execution_count": 12,
   "id": "9b45850c",
   "metadata": {},
   "outputs": [
    {
     "name": "stdout",
     "output_type": "stream",
     "text": [
      "특성 확인 : {'love': 6, 'brazil': 3, 'sweden': 7, 'is': 5, 'best': 1, 'germany': 4, 'beats': 0, 'both': 2}\n"
     ]
    }
   ],
   "source": [
    "import numpy as np\n",
    "from sklearn.feature_extraction.text import TfidfVectorizer\n",
    "\n",
    "text_data = np.array((['I love Brazil. Brazil !',\n",
    "                      'Sweden is best',\n",
    "                      'Germany beats both']))\n",
    "\n",
    "tfidf = TfidfVectorizer()    # tf-idf 특성 행렬을 만든다.\n",
    "feature_matrix = tfidf.fit_transform(text_data)\n",
    "feature_matrix    # tf-idf 특성 행렬을 확인\n",
    "feature_matrix.toarray()    # tf-idf 특성 행렬을 밀집 배열 확인\n",
    "\n",
    "tf = tfidf.vocabulary_        # 특성 이름을 확인\n",
    "print(\"특성 확인 :\", tf)"
   ]
  },
  {
   "cell_type": "code",
   "execution_count": null,
   "id": "b7be8f0d",
   "metadata": {},
   "outputs": [],
   "source": []
  }
 ],
 "metadata": {
  "kernelspec": {
   "display_name": "AI",
   "language": "python",
   "name": "ai"
  },
  "language_info": {
   "codemirror_mode": {
    "name": "ipython",
    "version": 3
   },
   "file_extension": ".py",
   "mimetype": "text/x-python",
   "name": "python",
   "nbconvert_exporter": "python",
   "pygments_lexer": "ipython3",
   "version": "3.8.16"
  }
 },
 "nbformat": 4,
 "nbformat_minor": 5
}
