{
 "cells": [
  {
   "cell_type": "code",
   "execution_count": 1,
   "id": "43979fdb",
   "metadata": {},
   "outputs": [],
   "source": [
    "import re"
   ]
  },
  {
   "cell_type": "markdown",
   "id": "c895a7a0",
   "metadata": {},
   "source": [
    "### 텍스트 정제\n",
    "- 비정형 텍스트 데이터에 기본적인 정제 작업 - strip, replac, split 등 기본 문자열 메서드를 사용해 텍스트를 변경\n",
    "- 정규 표현식을 사용해 문자열 치환"
   ]
  },
  {
   "cell_type": "code",
   "execution_count": 4,
   "id": "da1d4bf0",
   "metadata": {},
   "outputs": [],
   "source": [
    "# 텍스트 정제\n",
    "text_data = [\"K-POP 3세대 대표 아이돌 그룹 중 하나로서, 해외와 빌보드 메인 차트에서 많은 기록을 세우고 있는 세계적인 걸그룹이다. ???\",\n",
    "            \"   현재 걸그룹 중 유일하게 모든 멤버가 글로벌 하이앤드 브랜드의 ‘글로벌 앰버서더’로 활동하고 있다. !!!!!\"]"
   ]
  },
  {
   "cell_type": "code",
   "execution_count": 5,
   "id": "b5ab2140",
   "metadata": {},
   "outputs": [
    {
     "name": "stdout",
     "output_type": "stream",
     "text": [
      "['K-POP 3세대 대표 아이돌 그룹 중 하나로서, 해외와 빌보드 메인 차트에서 많은 기록을 세우고 있는 세계적인 걸그룹이다. ???', '현재 걸그룹 중 유일하게 모든 멤버가 글로벌 하이앤드 브랜드의 ‘글로벌 앰버서더’로 활동하고 있다. !!!!!']\n"
     ]
    }
   ],
   "source": [
    "# 공백 문자 제거\n",
    "strip_whitespace = [string.strip() for string in text_data]   # 공백 문자 제거\n",
    "print(strip_whitespace)"
   ]
  },
  {
   "cell_type": "code",
   "execution_count": 6,
   "id": "ee308a10",
   "metadata": {},
   "outputs": [
    {
     "name": "stdout",
     "output_type": "stream",
     "text": [
      "['K-POP 3세대 대표 아이돌 그룹 중 하나로서, 해외와 빌보드 메인 차트에서 많은 기록을 세우고 있는 세계적인 걸그룹이다 ???', '현재 걸그룹 중 유일하게 모든 멤버가 글로벌 하이앤드 브랜드의 ‘글로벌 앰버서더’로 활동하고 있다 !!!!!']\n"
     ]
    }
   ],
   "source": [
    "# 마침표 제거\n",
    "remove_periods = [string.replace(\".\", \"\") for string in strip_whitespace]\n",
    "print(remove_periods)"
   ]
  },
  {
   "cell_type": "code",
   "execution_count": 7,
   "id": "f48e6717",
   "metadata": {},
   "outputs": [
    {
     "name": "stdout",
     "output_type": "stream",
     "text": [
      "['KPOP 3세대 대표 아이돌 그룹 중 하나로서 해외와 빌보드 메인 차트에서 많은 기록을 세우고 있는 세계적인 걸그룹이다 ', '   현재 걸그룹 중 유일하게 모든 멤버가 글로벌 하이앤드 브랜드의 글로벌 앰버서더로 활동하고 있다 ']\n"
     ]
    }
   ],
   "source": [
    "# 구두점 삭제\n",
    "# 구두점 글자의 딕셔너리를 만들어 translate() 적용\n",
    "\n",
    "# 모든 유니코드 구두점을 키로 하고 값은 None인 punctuation 딕셔너리를 만든다.\n",
    "# 문자열로부터 punctuation에 있는 모든 문자를 None으로 바꾼다. (구두점 삭제 효과)\n",
    "\n",
    "# 구두점 문자로 이루어진 딕셔너리 생성\n",
    "import sys\n",
    "import unicodedata\n",
    "\n",
    "temp = dict.fromkeys(i for i in range(sys.maxunicode) if unicodedata.category(chr(i)).startswith('P'))\n",
    "\n",
    "# 문자열의 구두점을 삭제\n",
    "data = [string.translate(temp) for string in text_data]\n",
    "print(data)"
   ]
  },
  {
   "cell_type": "markdown",
   "id": "13f117f7",
   "metadata": {},
   "source": [
    "## 텍스트 토큰화\n",
    "- 텍스트를 개별 단어로 나누기"
   ]
  },
  {
   "cell_type": "code",
   "execution_count": 8,
   "id": "7bde453a",
   "metadata": {},
   "outputs": [
    {
     "name": "stderr",
     "output_type": "stream",
     "text": [
      "[nltk_data] Downloading package punkt to\n",
      "[nltk_data]     C:\\Users\\smjin\\AppData\\Roaming\\nltk_data...\n",
      "[nltk_data]   Package punkt is already up-to-date!\n"
     ]
    },
    {
     "data": {
      "text/plain": [
       "True"
      ]
     },
     "execution_count": 8,
     "metadata": {},
     "output_type": "execute_result"
    }
   ],
   "source": [
    "from nltk.tokenize import sent_tokenize\n",
    "from nltk.tokenize import word_tokenize\n",
    "import nltk\n",
    "\n",
    "# 구두점 데이터 다운로드\n",
    "nltk.download('punkt')"
   ]
  },
  {
   "cell_type": "markdown",
   "id": "8fbdd7d8",
   "metadata": {},
   "source": [
    "### 단어 나누기"
   ]
  },
  {
   "cell_type": "code",
   "execution_count": 12,
   "id": "345d680d",
   "metadata": {},
   "outputs": [
    {
     "name": "stdout",
     "output_type": "stream",
     "text": [
      "['현재', '걸그룹', '중', '유일하게', '모든', '멤버가', '글로벌', '하이앤드', '브랜드의', '‘', '글로벌', '앰버서더', '’', '로', '활동하고', '있다', '.']\n"
     ]
    }
   ],
   "source": [
    "string = \"현재 걸그룹 중 유일하게 모든 멤버가 글로벌 하이앤드 브랜드의 ‘글로벌 앰버서더’로 활동하고 있다.\"\n",
    "word_data = word_tokenize(string)   # 단어를 토큰 기준으로 나눈다.\n",
    "print(word_data)"
   ]
  },
  {
   "cell_type": "markdown",
   "id": "1cb004f8",
   "metadata": {},
   "source": [
    "### 문장 나누기"
   ]
  },
  {
   "cell_type": "code",
   "execution_count": 15,
   "id": "1f61f1e6",
   "metadata": {},
   "outputs": [
    {
     "name": "stdout",
     "output_type": "stream",
     "text": [
      "['K-POP 3세대 대표 아이돌 그룹 중 하나로서, 해외와 빌보드 메인 차트에서 많은 기록을 세우고 있는 세계적인 걸그룹이다.', '현재 걸그룹 중 유일하게 모든 멤버가 글로벌 하이앤드 브랜드의 ‘글로벌 앰버서더’로 활동하고 있다.']\n"
     ]
    }
   ],
   "source": [
    "sent_string = \"K-POP 3세대 대표 아이돌 그룹 중 하나로서, 해외와 빌보드 메인 차트에서 많은 기록을 세우고 있는 세계적인 걸그룹이다. 현재 걸그룹 중 유일하게 모든 멤버가 글로벌 하이앤드 브랜드의 ‘글로벌 앰버서더’로 활동하고 있다.\"\n",
    "sent_data = sent_tokenize(sent_string)\n",
    "print(sent_data)"
   ]
  },
  {
   "cell_type": "markdown",
   "id": "929aff2b",
   "metadata": {},
   "source": [
    "## 불용어 삭제\n"
   ]
  },
  {
   "cell_type": "code",
   "execution_count": 16,
   "id": "868c02f6",
   "metadata": {},
   "outputs": [
    {
     "name": "stderr",
     "output_type": "stream",
     "text": [
      "[nltk_data] Downloading package stopwords to\n",
      "[nltk_data]     C:\\Users\\smjin\\AppData\\Roaming\\nltk_data...\n",
      "[nltk_data]   Package stopwords is already up-to-date!\n"
     ]
    },
    {
     "data": {
      "text/plain": [
       "True"
      ]
     },
     "execution_count": 16,
     "metadata": {},
     "output_type": "execute_result"
    }
   ],
   "source": [
    "from nltk.corpus import stopwords\n",
    "nltk.download('stopwords')      # 불용어 데이터 다운로드"
   ]
  },
  {
   "cell_type": "code",
   "execution_count": 19,
   "id": "601b4e20",
   "metadata": {},
   "outputs": [
    {
     "name": "stdout",
     "output_type": "stream",
     "text": [
      "불용어 리스트 : ['i', 'me', 'my', 'myself', 'we', 'our', 'ours', 'ourselves', 'you', \"you're\", \"you've\", \"you'll\", \"you'd\", 'your', 'yours', 'yourself', 'yourselves', 'he', 'him', 'his', 'himself', 'she', \"she's\", 'her', 'hers', 'herself', 'it', \"it's\", 'its', 'itself', 'they', 'them', 'their', 'theirs', 'themselves', 'what', 'which', 'who', 'whom', 'this', 'that', \"that'll\", 'these', 'those', 'am', 'is', 'are', 'was', 'were', 'be', 'been', 'being', 'have', 'has', 'had', 'having', 'do', 'does', 'did', 'doing', 'a', 'an', 'the', 'and', 'but', 'if', 'or', 'because', 'as', 'until', 'while', 'of', 'at', 'by', 'for', 'with', 'about', 'against', 'between', 'into', 'through', 'during', 'before', 'after', 'above', 'below', 'to', 'from', 'up', 'down', 'in', 'out', 'on', 'off', 'over', 'under', 'again', 'further', 'then', 'once', 'here', 'there', 'when', 'where', 'why', 'how', 'all', 'any', 'both', 'each', 'few', 'more', 'most', 'other', 'some', 'such', 'no', 'nor', 'not', 'only', 'own', 'same', 'so', 'than', 'too', 'very', 's', 't', 'can', 'will', 'just', 'don', \"don't\", 'should', \"should've\", 'now', 'd', 'll', 'm', 'o', 're', 've', 'y', 'ain', 'aren', \"aren't\", 'couldn', \"couldn't\", 'didn', \"didn't\", 'doesn', \"doesn't\", 'hadn', \"hadn't\", 'hasn', \"hasn't\", 'haven', \"haven't\", 'isn', \"isn't\", 'ma', 'mightn', \"mightn't\", 'mustn', \"mustn't\", 'needn', \"needn't\", 'shan', \"shan't\", 'shouldn', \"shouldn't\", 'wasn', \"wasn't\", 'weren', \"weren't\", 'won', \"won't\", 'wouldn', \"wouldn't\"]\n",
      "불용어가 삭제된 결과 :  ['going', 'store', 'park']\n"
     ]
    }
   ],
   "source": [
    "tokenized_words = [\"i\", \"am\", \"going\", \"to\", \"to\", \"the\", \"store\", \"and\", \"park\"]\n",
    "\n",
    "stop_words = stopwords.words('english')\n",
    "\n",
    "# 불용어 삭제\n",
    "filtered_words = [word for word in tokenized_words if word not in stop_words]\n",
    "\n",
    "# 불용어 확인\n",
    "stop_data = stop_words\n",
    "print(\"불용어 리스트 :\", stop_data)\n",
    "print(\"불용어가 삭제된 결과 : \", filtered_words)"
   ]
  },
  {
   "cell_type": "markdown",
   "id": "7d50996b",
   "metadata": {},
   "source": [
    "어간 추출"
   ]
  },
  {
   "cell_type": "code",
   "execution_count": 20,
   "id": "93c4b979",
   "metadata": {},
   "outputs": [],
   "source": [
    "from nltk.stem.porter import PorterStemmer"
   ]
  },
  {
   "cell_type": "code",
   "execution_count": 22,
   "id": "0258f874",
   "metadata": {},
   "outputs": [
    {
     "name": "stdout",
     "output_type": "stream",
     "text": [
      "i\n",
      "am\n",
      "going\n",
      "to\n",
      "go\n",
      "to\n",
      "the\n",
      "store\n",
      "and\n",
      "meeting\n",
      "['i', 'am', 'go', 'to', 'go', 'to', 'the', 'store', 'and', 'meet']\n"
     ]
    }
   ],
   "source": [
    "tokenized_words_temp = [\"i\", \"am\", \"going\", \"to\", \"go\", \"to\", \"the\", \"store\", \"and\", \"meeting\"]\n",
    "\n",
    "# 어간 추출기 생성\n",
    "porter = PorterStemmer()\n",
    "word_list_temp = []\n",
    "for word in tokenized_words_temp :\n",
    "    print(word)\n",
    "    word_list_temp.append(porter.stem(word))\n",
    "    \n",
    "print(word_list_temp)"
   ]
  },
  {
   "cell_type": "markdown",
   "id": "84cd0a8e",
   "metadata": {},
   "source": [
    "## 품사 태깅"
   ]
  },
  {
   "cell_type": "code",
   "execution_count": 24,
   "id": "51765929",
   "metadata": {},
   "outputs": [],
   "source": [
    "from nltk import pos_tag\n",
    "from nltk import word_tokenize"
   ]
  },
  {
   "cell_type": "code",
   "execution_count": 25,
   "id": "c138d598",
   "metadata": {},
   "outputs": [
    {
     "name": "stderr",
     "output_type": "stream",
     "text": [
      "[nltk_data] Downloading package averaged_perceptron_tagger to\n",
      "[nltk_data]     C:\\Users\\smjin\\AppData\\Roaming\\nltk_data...\n",
      "[nltk_data]   Package averaged_perceptron_tagger is already up-to-\n",
      "[nltk_data]       date!\n"
     ]
    },
    {
     "data": {
      "text/plain": [
       "True"
      ]
     },
     "execution_count": 25,
     "metadata": {},
     "output_type": "execute_result"
    }
   ],
   "source": [
    "nltk.download(\"averaged_perceptron_tagger\")   # 태거 다운로드"
   ]
  },
  {
   "cell_type": "code",
   "execution_count": 26,
   "id": "21233a74",
   "metadata": {},
   "outputs": [
    {
     "name": "stdout",
     "output_type": "stream",
     "text": [
      "[('Chris', 'NNP'), ('loved', 'VBD'), ('outdoor', 'RP'), ('running', 'VBG')]\n"
     ]
    }
   ],
   "source": [
    "text_data_tag = \"Chris loved outdoor running\"      # 샘플 텍스트 데이터\n",
    "text_tagger = pos_tag(word_tokenize(text_data_tag))\n",
    "print(text_tagger)        # 품사 확인 (단어와 품사 태그로 이루어진 튜플의 리스트 출력)"
   ]
  },
  {
   "cell_type": "markdown",
   "id": "c11cb1bf",
   "metadata": {},
   "source": [
    "## Word Cloud 단어 뭉치를 가시화"
   ]
  },
  {
   "cell_type": "code",
   "execution_count": 28,
   "id": "60e7638d",
   "metadata": {},
   "outputs": [
    {
     "name": "stdout",
     "output_type": "stream",
     "text": [
      "Collecting pytagcloud\n",
      "  Downloading pytagcloud-0.3.5.tar.gz (754 kB)\n",
      "     ------------------------------------- 754.7/754.7 kB 15.8 MB/s eta 0:00:00\n",
      "  Preparing metadata (setup.py): started\n",
      "  Preparing metadata (setup.py): finished with status 'done'\n",
      "Building wheels for collected packages: pytagcloud\n",
      "  Building wheel for pytagcloud (setup.py): started\n",
      "  Building wheel for pytagcloud (setup.py): finished with status 'done'\n",
      "  Created wheel for pytagcloud: filename=pytagcloud-0.3.5-py3-none-any.whl size=759879 sha256=7fcf50db3950aa24fa298c4b53b1f19ddbe938e2e8fb612eb78bae74effa79ef\n",
      "  Stored in directory: c:\\users\\smjin\\appdata\\local\\pip\\cache\\wheels\\77\\50\\a4\\dbd4b0c5175da72ed028b680270c079d7c8d948320a859a727\n",
      "Successfully built pytagcloud\n",
      "Installing collected packages: pytagcloud\n",
      "Successfully installed pytagcloud-0.3.5\n"
     ]
    }
   ],
   "source": [
    "!pip install pytagcloud"
   ]
  },
  {
   "cell_type": "code",
   "execution_count": 30,
   "id": "3dff3afc",
   "metadata": {},
   "outputs": [
    {
     "name": "stdout",
     "output_type": "stream",
     "text": [
      "Collecting pygame\n",
      "  Downloading pygame-2.4.0-cp310-cp310-win_amd64.whl (10.6 MB)\n",
      "     --------------------------------------- 10.6/10.6 MB 32.8 MB/s eta 0:00:00\n",
      "Installing collected packages: pygame\n",
      "Successfully installed pygame-2.4.0\n"
     ]
    }
   ],
   "source": [
    "!pip install pygame"
   ]
  },
  {
   "cell_type": "code",
   "execution_count": 32,
   "id": "d78a4fe0",
   "metadata": {},
   "outputs": [
    {
     "name": "stdout",
     "output_type": "stream",
     "text": [
      "Collecting simplejson\n",
      "  Downloading simplejson-3.19.1-cp310-cp310-win_amd64.whl (75 kB)\n",
      "     ---------------------------------------- 75.5/75.5 kB 4.3 MB/s eta 0:00:00\n",
      "Installing collected packages: simplejson\n",
      "Successfully installed simplejson-3.19.1\n"
     ]
    }
   ],
   "source": [
    "!pip install simplejson"
   ]
  },
  {
   "cell_type": "code",
   "execution_count": 37,
   "id": "bc4df0a6",
   "metadata": {},
   "outputs": [
    {
     "name": "stdout",
     "output_type": "stream",
     "text": [
      "Collecting pycopy-webbrowser\n",
      "  Downloading pycopy-webbrowser-0.0.0.tar.gz (631 bytes)\n"
     ]
    },
    {
     "name": "stderr",
     "output_type": "stream",
     "text": [
      "ERROR: pycopy-webbrowser from https://files.pythonhosted.org/packages/40/6f/3534aa5470f69aede4ec969a4f64981892e5bd838ea8e148d8d7ee52f1bc/pycopy-webbrowser-0.0.0.tar.gz does not appear to be a Python project: neither 'setup.py' nor 'pyproject.toml' found.\n"
     ]
    }
   ],
   "source": [
    "!pip install pycopy-webbrowser"
   ]
  },
  {
   "cell_type": "code",
   "execution_count": 33,
   "id": "edc52c1f",
   "metadata": {},
   "outputs": [],
   "source": [
    "import pytagcloud\n",
    "import webbrowser"
   ]
  },
  {
   "cell_type": "code",
   "execution_count": 38,
   "id": "fad4db92",
   "metadata": {},
   "outputs": [
    {
     "data": {
      "text/plain": [
       "True"
      ]
     },
     "execution_count": 38,
     "metadata": {},
     "output_type": "execute_result"
    }
   ],
   "source": [
    "tag = [('Hello', 100), (\"World\", 80), (\"Python\", 200)]\n",
    "tag_list = pytagcloud.make_tags(tag, maxsize = 50)\n",
    "pytagcloud.create_tag_image(tag_list, \"woord_cloud.jpg\", size=(900, 600), rectangular=False)\n",
    "\n",
    "webbrowser.open('word_cloud.jpg')"
   ]
  },
  {
   "cell_type": "code",
   "execution_count": 39,
   "id": "7d8696a9",
   "metadata": {},
   "outputs": [
    {
     "ename": "ModuleNotFoundError",
     "evalue": "No module named 'Ipython'",
     "output_type": "error",
     "traceback": [
      "\u001b[1;31m---------------------------------------------------------------------------\u001b[0m",
      "\u001b[1;31mModuleNotFoundError\u001b[0m                       Traceback (most recent call last)",
      "Cell \u001b[1;32mIn[39], line 1\u001b[0m\n\u001b[1;32m----> 1\u001b[0m \u001b[38;5;28;01mfrom\u001b[39;00m \u001b[38;5;21;01mIpython\u001b[39;00m\u001b[38;5;21;01m.\u001b[39;00m\u001b[38;5;21;01mdisplay\u001b[39;00m \u001b[38;5;28;01mimport\u001b[39;00m Image\n",
      "\u001b[1;31mModuleNotFoundError\u001b[0m: No module named 'Ipython'"
     ]
    }
   ],
   "source": []
  },
  {
   "cell_type": "code",
   "execution_count": null,
   "id": "cecd7fb5",
   "metadata": {},
   "outputs": [],
   "source": []
  }
 ],
 "metadata": {
  "kernelspec": {
   "display_name": "AI",
   "language": "python",
   "name": "ai"
  },
  "language_info": {
   "codemirror_mode": {
    "name": "ipython",
    "version": 3
   },
   "file_extension": ".py",
   "mimetype": "text/x-python",
   "name": "python",
   "nbconvert_exporter": "python",
   "pygments_lexer": "ipython3",
   "version": "3.8.16"
  }
 },
 "nbformat": 4,
 "nbformat_minor": 5
}
