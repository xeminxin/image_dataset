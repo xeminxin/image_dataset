{
 "cells": [
  {
   "cell_type": "markdown",
   "id": "2377c4bc",
   "metadata": {},
   "source": [
    "# 주성분 줄이기 차이 비교\n",
    "### 선형적으로 구분되지 않는 데이터의 차원 축소"
   ]
  },
  {
   "cell_type": "code",
   "execution_count": 1,
   "id": "3cab7f45",
   "metadata": {},
   "outputs": [],
   "source": [
    "from sklearn.decomposition import KernelPCA\n",
    "from sklearn.datasets import make_circles"
   ]
  },
  {
   "cell_type": "code",
   "execution_count": 2,
   "id": "b6c21cc3",
   "metadata": {},
   "outputs": [
    {
     "name": "stdout",
     "output_type": "stream",
     "text": [
      "[[-0.02313275  0.15282194]\n",
      " [ 0.8626983   0.46556009]\n",
      " [ 0.05905661 -0.05048386]\n",
      " ...\n",
      " [-0.10071513 -0.1814104 ]\n",
      " [ 0.10461224  0.08710802]\n",
      " [ 0.28894733  0.97460534]]\n"
     ]
    }
   ],
   "source": [
    "# 선형적으로 구분되지 않는 데이터 만들기\n",
    "features, _ = make_circles(n_samples=1000, random_state=777, noise=0.1, factor=0.1)\n",
    "print(features)"
   ]
  },
  {
   "cell_type": "markdown",
   "id": "fcf5d01c",
   "metadata": {},
   "source": [
    "* 커널 함수는 선형적으로 구분되지 않는 데이터를 선형적으로 구분되는 고차원으로 투영시켜준다.\n",
    "* 사이킷런의 kernelPCA의 kernel 매개변수의 값 -rbf(가우시안 방사 기저 함수 커널), ploy(다항식 커널), sigmoid, 선형 투영(linear)로 지정\n",
    "* 여러 가지 커널과 매개변수 조합으로 머신러닝 모델을 여러 번 훈련시켜 가장 높은 예측 성능을 만드는 값의 조합을 찾아야 한다.\n",
    "* 커널 트릭은 실제 고차원으로 데이터를 변환하지 않으면서 고차원 데이터를 다루는 듯한 효과를 낸다."
   ]
  },
  {
   "cell_type": "markdown",
   "id": "b4874f33",
   "metadata": {},
   "source": [
    "데이터를 가우시안 RBF 커널을 사용하여 변환한 결과이며, 차원 수가 1차원으로 감소된 데이터.\n",
    "\n",
    "#### 방사 기저 함수\n",
    "데이터 간의 유사도를 측정하기 위해 주로 사용되는 함수 중 하나. RBF는 두 데이터 포인트 사이의 거리가 멀어질수록 값이 작아지는 형태로, 가우시안 함수를 대표적으로 사용한다."
   ]
  },
  {
   "cell_type": "code",
   "execution_count": null,
   "id": "e756ea7b",
   "metadata": {},
   "outputs": [],
   "source": [
    "# 방사 기저 함수 (radius basis function RBF)를 사용하여 커널 PCA를 적용\n",
    "kpca = KernelPCA(kernel='rbf', gamma=15, n_components=1)\n",
    "# Kernel rbf : 가우시안 rbf 커널\n",
    "features_kpca = kpca.fit_transform(features)\n",
    "print(\"원본 특성 개수 : \", features.shape[1])\n",
    "print(\"줄어든 특성 개수 : \", features_kpca.shape[1])"
   ]
  },
  {
   "cell_type": "code",
   "execution_count": 11,
   "id": "06450785",
   "metadata": {},
   "outputs": [],
   "source": [
    "# 선형 판별 분석 LDA\n",
    "from sklearn import datasets\n",
    "from sklearn.discriminant_analysis import LinearDiscriminantAnalysis"
   ]
  },
  {
   "cell_type": "code",
   "execution_count": 12,
   "id": "a2c70104",
   "metadata": {},
   "outputs": [],
   "source": [
    "iris = datasets.load_iris()    # 붖꽃 데이터셋 로드\n",
    "features = iris.data\n",
    "target = iris.target"
   ]
  },
  {
   "cell_type": "code",
   "execution_count": 13,
   "id": "87b9ad85",
   "metadata": {},
   "outputs": [
    {
     "name": "stdout",
     "output_type": "stream",
     "text": [
      "원본 특성 개수 4\n",
      "줄어든 특성 개수 1\n"
     ]
    }
   ],
   "source": [
    "# LDA 객체 만들고 실행하여 특성을 반환한다.\n",
    "lda = LinearDiscriminantAnalysis(n_components=1)\n",
    "features_lda = lda.fit(features, target).transform(features)\n",
    "\n",
    "print(\"원본 특성 개수\", features.shape[1])\n",
    "print(\"줄어든 특성 개수\", features_lda.shape[1])"
   ]
  },
  {
   "cell_type": "code",
   "execution_count": 14,
   "id": "2b285908",
   "metadata": {},
   "outputs": [],
   "source": [
    "# 행렬 분해를 사용하여 특성 축소\n",
    "from sklearn.decomposition import NMF\n",
    "from sklearn import datasets\n",
    "import numpy as np"
   ]
  },
  {
   "cell_type": "code",
   "execution_count": 19,
   "id": "1afd1a6e",
   "metadata": {},
   "outputs": [
    {
     "name": "stdout",
     "output_type": "stream",
     "text": [
      "원본 특성 개수 :  64\n",
      "줄어든 특성 개수 :  10\n"
     ]
    },
    {
     "name": "stderr",
     "output_type": "stream",
     "text": [
      "C:\\Users\\smjin\\anaconda3\\lib\\site-packages\\sklearn\\decomposition\\_nmf.py:1665: ConvergenceWarning: Maximum number of iterations 200 reached. Increase it to improve convergence.\n",
      "  warnings.warn(\n"
     ]
    }
   ],
   "source": [
    "digits = datasets.load_digits()      # 데이터 로드\n",
    "features = digits.data               # 특성 행렬을 로드\n",
    "\n",
    "nmf = NMF(n_components = 10, random_state = 1)\n",
    "# NMF 생성 / 위의 코드에서는 10개의 차원으로 변환하도록 설정\n",
    "\n",
    "features_nmf = nmf.fit_transform(features)       # 학습\n",
    "\n",
    "print(\"원본 특성 개수 : \", features.shape[1])\n",
    "print(\"줄어든 특성 개수 : \", features_nmf.shape[1])"
   ]
  },
  {
   "cell_type": "markdown",
   "id": "a26999fa",
   "metadata": {},
   "source": [
    "NMF : 원본 데이터셋의 특성으 양수로만 분해하는 기법. 입력 데이터셋의 모든 값이 양수일 경우 적용 가능"
   ]
  },
  {
   "cell_type": "code",
   "execution_count": 20,
   "id": "0df36cba",
   "metadata": {},
   "outputs": [
    {
     "data": {
      "text/plain": [
       "-0.19806745373965523"
      ]
     },
     "execution_count": 20,
     "metadata": {},
     "output_type": "execute_result"
    }
   ],
   "source": [
    "nmf.components_.shape   # H 행렬\n",
    "np.all(nmf.components_ >= 0)    # 모두 양수인지 확인\n",
    "\n",
    "# 원본 데이터를 복원하려면 변환된 행렬 W와 성분 행렬 H를 점곱한다.\n",
    "# NMF 모델에 의해 변환된 특성 features_nmf를 사용항 원본 데이터 features의 근사값을 계산하고, 이를 이용해 근사 오차를 계산\n",
    "np.mean(features - np.dot(features_nmf, nmf.components_))"
   ]
  },
  {
   "cell_type": "code",
   "execution_count": 21,
   "id": "5a0d31c1",
   "metadata": {},
   "outputs": [
    {
     "name": "stdout",
     "output_type": "stream",
     "text": [
      "-0.22082025790022983\n"
     ]
    }
   ],
   "source": [
    "# NMF 클래스의 solver 매개변수의 기본값은 mu로 좌표하강법을 사용\n",
    "nmf_mu = NMF(n_components=10, solver='mu', random_state=1)\n",
    "features_nmf_mu = nmf_mu.fit_transform(features)\n",
    "print(np.mean(features - np.dot(features_nmf_mu, nmf_mu.components_)))"
   ]
  },
  {
   "cell_type": "markdown",
   "id": "a934898e",
   "metadata": {},
   "source": [
    "features와 NMF 알고리즘으로 근사한 결과 행렬간의 MSE를 계산. 이 값을 통해 근사가 얼마나 잘 이루어졌는지를 평가할 수 있음"
   ]
  },
  {
   "cell_type": "code",
   "execution_count": null,
   "id": "e613c110",
   "metadata": {},
   "outputs": [],
   "source": []
  }
 ],
 "metadata": {
  "kernelspec": {
   "display_name": "AI",
   "language": "python",
   "name": "ai"
  },
  "language_info": {
   "codemirror_mode": {
    "name": "ipython",
    "version": 3
   },
   "file_extension": ".py",
   "mimetype": "text/x-python",
   "name": "python",
   "nbconvert_exporter": "python",
   "pygments_lexer": "ipython3",
   "version": "3.8.16"
  }
 },
 "nbformat": 4,
 "nbformat_minor": 5
}
